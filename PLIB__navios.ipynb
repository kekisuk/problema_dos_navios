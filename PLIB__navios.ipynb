{
  "nbformat": 4,
  "nbformat_minor": 0,
  "metadata": {
    "colab": {
      "name": "PLIB _navios.ipynb",
      "provenance": [],
      "collapsed_sections": []
    },
    "kernelspec": {
      "name": "python3",
      "display_name": "Python 3"
    },
    "language_info": {
      "name": "python"
    }
  },
  "cells": [
    {
      "cell_type": "code",
      "execution_count": null,
      "metadata": {
        "id": "LmvqcL9oH-VI"
      },
      "outputs": [],
      "source": [
        "pip install mip"
      ]
    },
    {
      "cell_type": "code",
      "source": [
        "from mip import Model, xsum, minimize, BINARY\n",
        "import time\n",
        "import timeit\n",
        "\n",
        "N = 3    #Numero de Navios\n",
        "B = 4    #Numero de Berços\n",
        "A = 1    #Valor limite das restrições\n",
        "\n",
        "#Tabela\n",
        "T = [[0 for j in range(B)] for i in range(N)]\n",
        "\n",
        "#Valores (pequeno) - original\n",
        "T[0][0] = 7\n",
        "T[0][1] = 13\n",
        "T[0][2] = 12\n",
        "T[0][3] = 14\n",
        "T[1][0] = 15\n",
        "T[1][1] = 10\n",
        "T[1][2] = 16\n",
        "T[1][3] = 8\n",
        "T[2][0] = 21\n",
        "T[2][1] = 15\n",
        "T[2][2] = 28\n",
        "T[2][3] = 5\n",
        "\n",
        "#Modelo\n",
        "m = Model(\"Problema dos navios\")\n",
        "\n",
        "#Variaveis - (matriz - 0 para o maior caminho e 1 para o menor)\n",
        "x = [[m.add_var(var_type=BINARY) for j in range(B)] for i in range(N)]\n",
        "\n",
        "#Objetivo\n",
        "m.objective = minimize( xsum(T[i][j]*x[i][j] for i in range(N) for j in range(B)))\n",
        "\n",
        "#Restrições\n",
        "for i in range(B):\n",
        "  m += xsum(x[j][i] for j in range(N)) <= A\n",
        "\n",
        "for i in range(N):\n",
        "  m += xsum(x[i][j] for j in range(B)) == A\n",
        "\n",
        "#Otimizando\n",
        "m.optimize()\n",
        "\n",
        "#Mostrar resultado\n",
        "\n",
        "for i in range(N):\n",
        "  print(\"Navio\", i+1)\n",
        "  for j in range(B):\n",
        "   print(\"  Berco\", j+1,\" = {:.0f}\".format(x[i][j].x))\n",
        "\n",
        "\n",
        "inicio = timeit.default_timer()\n",
        "fim = timeit.default_timer()\n",
        "print ('duracao: %f' % (fim - inicio))"
      ],
      "metadata": {
        "id": "VVBp9sDEgrjl"
      },
      "execution_count": null,
      "outputs": []
    }
  ]
}